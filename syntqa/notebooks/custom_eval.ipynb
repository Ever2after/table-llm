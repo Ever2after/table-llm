{
 "cells": [
  {
   "cell_type": "code",
   "execution_count": 1,
   "metadata": {},
   "outputs": [],
   "source": [
    "import pandas as pd\n",
    "import numpy as np\n",
    "import os\n",
    "import sys\n",
    "\n",
    "from pathlib import Path\n",
    "path = Path(\"../\").resolve()  \n",
    "sys.path.append(str(path))\n",
    "\n",
    "import utils.metric as metric"
   ]
  },
  {
   "cell_type": "code",
   "execution_count": null,
   "metadata": {},
   "outputs": [],
   "source": [
    "dataset = 'tablebench'\n",
    "split = 10\n",
    "df = pd.read_csv(f'../predict/{dataset}_classifier_test{split}.csv')"
   ]
  },
  {
   "cell_type": "code",
   "execution_count": 12,
   "metadata": {},
   "outputs": [],
   "source": [
    "df = df.fillna('none')\n",
    "df['acc_tableqa'] = df.apply(lambda x: 0 if x['ans_tableqa'] == 'none' else x['acc_tableqa'], axis=1)\n",
    "df['acc_text_to_sql'] = df.apply(lambda x: 0 if x['ans_text_to_sql'] == 'none' else x['acc_text_to_sql'], axis=1)"
   ]
  },
  {
   "cell_type": "code",
   "execution_count": null,
   "metadata": {},
   "outputs": [],
   "source": [
    "df['oracle'] = df.apply(lambda x: 1 if (x['acc_text_to_sql']==1 or x['acc_tableqa']==1) else 0, axis=1)"
   ]
  },
  {
   "cell_type": "code",
   "execution_count": 8,
   "metadata": {},
   "outputs": [],
   "source": [
    "df['pred'] = df['pred'].apply(lambda x: 'none' if x == 'no' else x)"
   ]
  },
  {
   "cell_type": "code",
   "execution_count": 14,
   "metadata": {},
   "outputs": [
    {
     "name": "stdout",
     "output_type": "stream",
     "text": [
      "TableQA Accuracy: 0.5613275613275613\n",
      "Text-to-SQL Accuracy: 0.3477633477633478\n",
      "GPT Accuracy: 0.5310245310245311\n",
      "Oracle Accuracy: 0.6233766233766234\n"
     ]
    }
   ],
   "source": [
    "print('TableQA Accuracy:', df['acc_tableqa'].mean())\n",
    "print('Text-to-SQL Accuracy:', df['acc_text_to_sql'].mean())\n",
    "print('GPT Accuracy:', df['gpt_score'].mean())\n",
    "print('Oracle Accuracy:', df['oracle'].mean())"
   ]
  },
  {
   "cell_type": "code",
   "execution_count": 15,
   "metadata": {},
   "outputs": [],
   "source": [
    "df.to_csv(f'../predict/{dataset}_classifier_test{split}.csv', index=False)"
   ]
  },
  {
   "cell_type": "code",
   "execution_count": 10,
   "metadata": {},
   "outputs": [
    {
     "name": "stdout",
     "output_type": "stream",
     "text": [
      "Text2SQL error: 0.37806637806637805\n"
     ]
    }
   ],
   "source": [
    "print('Text2SQL error:', (df['ans_text_to_sql'] == 'none').mean())"
   ]
  }
 ],
 "metadata": {
  "kernelspec": {
   "display_name": "syntqa",
   "language": "python",
   "name": "python3"
  },
  "language_info": {
   "codemirror_mode": {
    "name": "ipython",
    "version": 3
   },
   "file_extension": ".py",
   "mimetype": "text/x-python",
   "name": "python",
   "nbconvert_exporter": "python",
   "pygments_lexer": "ipython3",
   "version": "3.10.0"
  }
 },
 "nbformat": 4,
 "nbformat_minor": 2
}
