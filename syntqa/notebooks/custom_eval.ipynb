{
 "cells": [
  {
   "cell_type": "code",
   "execution_count": 1,
   "metadata": {},
   "outputs": [],
   "source": [
    "import pandas as pd\n",
    "import numpy as np\n",
    "import os\n",
    "import sys\n",
    "\n",
    "from pathlib import Path\n",
    "path = Path(\"../\").resolve()  \n",
    "sys.path.append(str(path))\n",
    "\n",
    "import utils.metric as metric"
   ]
  },
  {
   "cell_type": "code",
   "execution_count": 9,
   "metadata": {},
   "outputs": [],
   "source": [
    "# df = pd.read_csv('../llm/squall/tabmwp_classifier_test3.csv')\n",
    "df = pd.read_csv('../predict/tablebench_classifier_test3.csv')"
   ]
  },
  {
   "cell_type": "code",
   "execution_count": 10,
   "metadata": {},
   "outputs": [],
   "source": [
    "df = df.fillna('none')\n",
    "df['acc_tableqa'] = df.apply(lambda x: 0 if x['ans_tableqa'] == 'none' else x['acc_tableqa'], axis=1)\n",
    "df['acc_text_to_sql'] = df.apply(lambda x: 0 if x['ans_text_to_sql'] == 'none' else x['acc_text_to_sql'], axis=1)"
   ]
  },
  {
   "cell_type": "code",
   "execution_count": 11,
   "metadata": {},
   "outputs": [],
   "source": [
    "# df['acc_text_to_sql'] = df.apply(lambda x: 1 if x['answer'] in x['ans_text_to_sql'] else 0, axis=1)\n",
    "df['oracle'] = df.apply(lambda x: 1 if (x['acc_text_to_sql']==1 or x['acc_tableqa']==1) else 0, axis=1)"
   ]
  },
  {
   "cell_type": "code",
   "execution_count": 12,
   "metadata": {},
   "outputs": [
    {
     "name": "stdout",
     "output_type": "stream",
     "text": [
      "TableQA Accuracy: 0.3655143338954469\n",
      "Text-to-SQL Accuracy: 0.3490725126475548\n",
      "GPT Accuracy: 0.484822934232715\n",
      "Oracle Accuracy: 0.4978920741989882\n"
     ]
    }
   ],
   "source": [
    "print('TableQA Accuracy:', df['acc_tableqa'].mean())\n",
    "print('Text-to-SQL Accuracy:', df['acc_text_to_sql'].mean())\n",
    "print('GPT Accuracy:', df['gpt_score'].mean())\n",
    "print('Oracle Accuracy:', df['oracle'].mean())"
   ]
  },
  {
   "cell_type": "code",
   "execution_count": 13,
   "metadata": {},
   "outputs": [],
   "source": [
    "df.to_csv('../predict/tablebench_classifier_test3.csv', index=False)"
   ]
  },
  {
   "cell_type": "code",
   "execution_count": 15,
   "metadata": {},
   "outputs": [
    {
     "name": "stdout",
     "output_type": "stream",
     "text": [
      "Text2SQL error: 0.2824620573355818\n"
     ]
    }
   ],
   "source": [
    "print('Text2SQL error:', (df['ans_text_to_sql'] == 'none').mean())"
   ]
  },
  {
   "cell_type": "code",
   "execution_count": 6,
   "metadata": {},
   "outputs": [],
   "source": [
    "df1 = pd.read_csv('../predict/tablebench/tablebench_plus_text_to_sql_test1_noise1.csv')\n",
    "df2 = pd.read_csv('../predict/tablebench/tablebench_plus_text_to_sql_test2_noise1.csv')"
   ]
  },
  {
   "cell_type": "code",
   "execution_count": 7,
   "metadata": {},
   "outputs": [],
   "source": [
    "df = pd.concat([df1, df2], axis=0)"
   ]
  },
  {
   "cell_type": "code",
   "execution_count": 8,
   "metadata": {},
   "outputs": [],
   "source": [
    "df.to_csv('../predict/tablebench/tablebench_plus_text_to_sql_test3_noise1.csv', index=False)"
   ]
  },
  {
   "cell_type": "code",
   "execution_count": null,
   "metadata": {},
   "outputs": [],
   "source": []
  }
 ],
 "metadata": {
  "kernelspec": {
   "display_name": "syntqa",
   "language": "python",
   "name": "python3"
  },
  "language_info": {
   "codemirror_mode": {
    "name": "ipython",
    "version": 3
   },
   "file_extension": ".py",
   "mimetype": "text/x-python",
   "name": "python",
   "nbconvert_exporter": "python",
   "pygments_lexer": "ipython3",
   "version": "3.10.16"
  }
 },
 "nbformat": 4,
 "nbformat_minor": 2
}
