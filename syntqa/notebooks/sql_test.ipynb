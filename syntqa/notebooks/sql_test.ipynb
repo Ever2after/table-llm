{
 "cells": [
  {
   "cell_type": "code",
   "execution_count": 3,
   "metadata": {},
   "outputs": [],
   "source": [
    "from pandasql import sqldf  # SQL 실행에 필요\n",
    "import pandas as pd \n",
    "import json"
   ]
  },
  {
   "cell_type": "code",
   "execution_count": 14,
   "metadata": {},
   "outputs": [],
   "source": [
    "# open json file \n",
    "with open('../data/tabmwp/tabmwp_test.json', 'r', encoding='utf-8') as json_file:\n",
    "    json_data = json.load(json_file)\n",
    "\n",
    "# json data to pandas dataframe\n",
    "row = {}\n",
    "cnt = 9\n",
    "for idx, data in json_data.items():\n",
    "    if cnt>0:\n",
    "        cnt -= 1\n",
    "        continue\n",
    "    row = data\n",
    "    row['id'] = idx\n",
    "    break"
   ]
  },
  {
   "cell_type": "code",
   "execution_count": 15,
   "metadata": {},
   "outputs": [
    {
     "name": "stdout",
     "output_type": "stream",
     "text": [
      "{'question': 'Look at the table. Then answer the question. At a price of $155, is there a shortage or a surplus?', 'choices': ['shortage', 'surplus'], 'answer': 'shortage', 'unit': None, 'table_title': None, 'table': 'Price | Quantity demanded | Quantity supplied\\n$155 | 22,600 | 5,800\\n$275 | 20,500 | 9,400\\n$395 | 18,400 | 13,000\\n$515 | 16,300 | 16,600\\n$635 | 14,200 | 20,200', 'table_for_pd': {'Price': ['$155', '$275', '$395', '$515', '$635'], 'Quantity demanded': ['22,600', '20,500', '18,400', '16,300', '14,200'], 'Quantity supplied': ['5,800', '9,400', '13,000', '16,600', '20,200']}, 'row_num': 6, 'column_num': 3, 'solution': 'At the price of $155, the quantity demanded is greater than the quantity supplied. There is not enough of the good or service for sale at that price. So, there is a shortage.\\n', 'ques_type': 'multi_choice', 'ans_type': 'boolean_text', 'grade': 5, 'split': 'test', 'id': '54'}\n"
     ]
    }
   ],
   "source": [
    "print(row)"
   ]
  },
  {
   "cell_type": "code",
   "execution_count": 28,
   "metadata": {},
   "outputs": [],
   "source": [
    "def execute_sql(table, sql):\n",
    "    try:\n",
    "        my_table = table\n",
    "        globals()['my_table'] = table\n",
    "        result = sqldf(sql, globals()).values.tolist()\n",
    "        # 2D list -> 1D list로 펼치기\n",
    "        # 예: [[ 'michael schumacher'], ['lewis hamilton']] -> ['michael schumacher','lewis hamilton']\n",
    "        flattened = [str(item).strip().lower() for row in result for item in row]\n",
    "        # 쉼표로 join\n",
    "        result_str = ', '.join(flattened)\n",
    "    except Exception as e:\n",
    "        # 실행 실패 시, 빈 결과\n",
    "        print(f\"SQL 실행 실패: {e}\")\n",
    "        result_str = \"\"\n",
    "    return result_str"
   ]
  },
  {
   "cell_type": "code",
   "execution_count": 29,
   "metadata": {},
   "outputs": [
    {
     "name": "stdout",
     "output_type": "stream",
     "text": [
      "table:\n",
      "   Price Quantity demanded Quantity supplied\n",
      "0  $155            22,600             5,800\n",
      "1  $275            20,500             9,400\n",
      "2  $395            18,400            13,000\n",
      "3  $515            16,300            16,600\n",
      "4  $635            14,200            20,200\n",
      "query: Look at the table. Then answer the question. At a price of $155, is there a shortage or a surplus?\n",
      "SQL 실행 실패: (sqlite3.OperationalError) no such column: quantity_demanded\n",
      "[SQL: \n",
      "SELECT CASE WHEN quantity_demanded > quantity_supplied THEN 'Shortage' ELSE 'Surplus' END FROM my_table WHERE price = 155\n",
      "]\n",
      "(Background on this error at: https://sqlalche.me/e/20/e3q8)\n",
      "result:\n",
      " \n"
     ]
    }
   ],
   "source": [
    "table = pd.DataFrame(row['table_for_pd'])\n",
    "query = row['question']\n",
    "sql = '''\n",
    "SELECT CASE WHEN quantity_demanded > quantity_supplied THEN 'Shortage' ELSE 'Surplus' END FROM my_table WHERE price = 155\n",
    "'''\n",
    "print('table:\\n', table)\n",
    "print('query:', query)\n",
    "result = execute_sql(table, sql)\n",
    "print('result:\\n', result)"
   ]
  },
  {
   "cell_type": "code",
   "execution_count": null,
   "metadata": {},
   "outputs": [],
   "source": []
  }
 ],
 "metadata": {
  "kernelspec": {
   "display_name": "syntqa",
   "language": "python",
   "name": "python3"
  },
  "language_info": {
   "codemirror_mode": {
    "name": "ipython",
    "version": 3
   },
   "file_extension": ".py",
   "mimetype": "text/x-python",
   "name": "python",
   "nbconvert_exporter": "python",
   "pygments_lexer": "ipython3",
   "version": "3.10.16"
  }
 },
 "nbformat": 4,
 "nbformat_minor": 2
}
