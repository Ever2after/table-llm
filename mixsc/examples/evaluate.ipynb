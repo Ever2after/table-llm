{
 "cells": [
  {
   "cell_type": "code",
   "execution_count": 2,
   "metadata": {},
   "outputs": [],
   "source": [
    "import os\n",
    "\n",
    "# redirect to the parent directory\n",
    "os.chdir(\"..\")\n",
    "\n",
    "from evaluate import eval_wtq"
   ]
  },
  {
   "cell_type": "code",
   "execution_count": 6,
   "metadata": {},
   "outputs": [
    {
     "name": "stdout",
     "output_type": "stream",
     "text": [
      "🚀 Starting Evaluation...\n",
      "Loading results/wtq-agent-all/result_sc1.jsonl...\n",
      "Loading results/wtq-agent-all/result_sc1.jsonl...\n",
      "Loaded 4344 results.\n"
     ]
    },
    {
     "name": "stderr",
     "output_type": "stream",
     "text": [
      "Progress: 100%|██████████| 100/100 [00:14<00:00,  6.71batch/s]"
     ]
    },
    {
     "name": "stdout",
     "output_type": "stream",
     "text": [
      "🏁 Evaluation Complete.\n",
      "📊 Statistical Summary of 100 Trials on 4344 Examples from Combined Checkpoints\n",
      "Min Accuracy: 54.63% (2373.0/4344)\n",
      "Max Accuracy: 54.63% (2373.0/4344)\n",
      "Mean Accuracy: 54.63% (2373.0/4344)\n",
      "Standard Deviation: 0.00%\n"
     ]
    },
    {
     "name": "stderr",
     "output_type": "stream",
     "text": [
      "\n"
     ]
    }
   ],
   "source": [
    "# evaluate 5 self consistency of CoT, average over 100 times shuffling\n",
    "eval_wtq(\n",
    "    checkpoints=\"results/wtq-agent-all/result_sc1.jsonl\",\n",
    "    n_times=100\n",
    ")"
   ]
  },
  {
   "cell_type": "code",
   "execution_count": 4,
   "metadata": {},
   "outputs": [
    {
     "name": "stdout",
     "output_type": "stream",
     "text": [
      "🚀 Starting Evaluation...\n",
      "Loading ['results/wtq-agent-all/result_sc1.jsonl', 'results/wtq-agent-all/result_sc2.jsonl', 'results/wtq-agent-all/result_sc3.jsonl', 'results/wtq-agent-all/result_sc4.jsonl', 'results/wtq-agent-all/result_sc5.jsonl']...\n",
      "Loading results/wtq-agent-all/result_sc1.jsonl...\n",
      "Loaded 4344 results.\n",
      "Loading results/wtq-agent-all/result_sc2.jsonl...\n",
      "Loaded 4344 results.\n",
      "Loading results/wtq-agent-all/result_sc3.jsonl...\n",
      "Loaded 4344 results.\n",
      "Loading results/wtq-agent-all/result_sc4.jsonl...\n",
      "Loaded 4344 results.\n",
      "Loading results/wtq-agent-all/result_sc5.jsonl...\n",
      "Loaded 4344 results.\n"
     ]
    },
    {
     "name": "stderr",
     "output_type": "stream",
     "text": [
      "Progress: 100%|██████████| 100/100 [00:29<00:00,  3.34batch/s]"
     ]
    },
    {
     "name": "stdout",
     "output_type": "stream",
     "text": [
      "🏁 Evaluation Complete.\n",
      "📊 Statistical Summary of 100 Trials on 4344 Examples from Combined Checkpoints\n",
      "Min Accuracy: 60.66% (2635.0/4344)\n",
      "Max Accuracy: 61.53% (2673.0/4344)\n",
      "Mean Accuracy: 61.07% (2653.0/4344)\n",
      "Standard Deviation: 0.19%\n"
     ]
    },
    {
     "name": "stderr",
     "output_type": "stream",
     "text": [
      "\n"
     ]
    }
   ],
   "source": [
    "# evaluate 5 self consistency of PyAgent, average over 100 times shuffling\n",
    "eval_wtq(\n",
    "    checkpoints=[\"results/wtq-agent-all/result_sc1.jsonl\", \"results/wtq-agent-all/result_sc2.jsonl\", \"results/wtq-agent-all/result_sc3.jsonl\", \"results/wtq-agent-all/result_sc4.jsonl\", \"results/wtq-agent-all/result_sc5.jsonl\"],\n",
    "    n_times=100\n",
    ")"
   ]
  },
  {
   "cell_type": "code",
   "execution_count": 11,
   "metadata": {},
   "outputs": [
    {
     "name": "stdout",
     "output_type": "stream",
     "text": [
      "🚀 Starting Evaluation...\n",
      "Loading ['results/wtq-cot-all/result_5.jsonl', 'results/wtq-agent-all/result_sc1.jsonl', 'results/wtq-agent-all/result_sc2.jsonl', 'results/wtq-agent-all/result_sc3.jsonl', 'results/wtq-agent-all/result_sc4.jsonl', 'results/wtq-agent-all/result_sc5.jsonl']...\n",
      "Loading results/wtq-cot-all/result_5.jsonl...\n",
      "Loaded 4344 results.\n",
      "Loading results/wtq-agent-all/result_sc1.jsonl...\n",
      "Loaded 4344 results.\n",
      "Loading results/wtq-agent-all/result_sc2.jsonl...\n",
      "Loaded 4344 results.\n",
      "Loading results/wtq-agent-all/result_sc3.jsonl...\n",
      "Loaded 4344 results.\n",
      "Loading results/wtq-agent-all/result_sc4.jsonl...\n",
      "Loaded 4344 results.\n",
      "Loading results/wtq-agent-all/result_sc5.jsonl...\n",
      "Loaded 4344 results.\n"
     ]
    },
    {
     "name": "stderr",
     "output_type": "stream",
     "text": [
      "Progress: 100%|██████████| 1/1 [00:00<00:00,  2.58batch/s]"
     ]
    },
    {
     "name": "stdout",
     "output_type": "stream",
     "text": [
      "🏁 Evaluation Complete.\n",
      "📊 Statistical Summary of 1 Trials on 4344 Examples from Combined Checkpoints\n",
      "Min Accuracy: 73.64% (3199.0/4344)\n",
      "Max Accuracy: 73.64% (3199.0/4344)\n",
      "Mean Accuracy: 73.64% (3199.0/4344)\n",
      "Standard Deviation: 0.00%\n"
     ]
    },
    {
     "name": "stderr",
     "output_type": "stream",
     "text": [
      "\n"
     ]
    }
   ],
   "source": [
    "# evaluate 5+5 self consistency of CoT and PyAgent, do not shuffle\n",
    "eval_wtq(\n",
    "    checkpoints=[\"results/wtq-cot-all/result_5.jsonl\", \"results/wtq-agent-all/result_sc1.jsonl\", \"results/wtq-agent-all/result_sc2.jsonl\", \"results/wtq-agent-all/result_sc3.jsonl\", \"results/wtq-agent-all/result_sc4.jsonl\", \"results/wtq-agent-all/result_sc5.jsonl\"],\n",
    "    n_times=1\n",
    ")"
   ]
  },
  {
   "cell_type": "code",
   "execution_count": 11,
   "metadata": {},
   "outputs": [
    {
     "name": "stdout",
     "output_type": "stream",
     "text": [
      "🚀 Starting Evaluation...\n",
      "Loading ['results/wtq-cot-all/result_5.jsonl', 'results/wtq-agent-all/result_sc1.jsonl', 'results/wtq-agent-all/result_sc2.jsonl']...\n",
      "Loading results/wtq-cot-all/result_5.jsonl...\n",
      "Loaded 4344 results.\n",
      "Loading results/wtq-agent-all/result_sc1.jsonl...\n",
      "Loaded 4344 results.\n",
      "Loading results/wtq-agent-all/result_sc2.jsonl...\n",
      "Loaded 4344 results.\n"
     ]
    },
    {
     "name": "stderr",
     "output_type": "stream",
     "text": [
      "Progress: 100%|██████████| 1/1 [00:00<00:00,  3.73batch/s]"
     ]
    },
    {
     "name": "stdout",
     "output_type": "stream",
     "text": [
      "🏁 Evaluation Complete.\n",
      "📊 Statistical Summary of 1 Trials on 4344 Examples from Combined Checkpoints\n",
      "Min Accuracy: 69.15% (3004.0/4344)\n",
      "Max Accuracy: 69.15% (3004.0/4344)\n",
      "Mean Accuracy: 69.15% (3004.0/4344)\n",
      "Standard Deviation: 0.00%\n"
     ]
    },
    {
     "name": "stderr",
     "output_type": "stream",
     "text": [
      "\n"
     ]
    }
   ],
   "source": [
    "# eval any combination of checkpoints\n",
    "eval_wtq(\n",
    "    checkpoints=[\"results/wtq-cot-all/result_5.jsonl\", \"results/wtq-agent-all/result_sc1.jsonl\", \"results/wtq-agent-all/result_sc2.jsonl\"],\n",
    "    elements_per_checkpoint=[3, 1, 1],\n",
    "    n_times=1\n",
    ")"
   ]
  },
  {
   "cell_type": "code",
   "execution_count": 17,
   "metadata": {},
   "outputs": [
    {
     "name": "stdout",
     "output_type": "stream",
     "text": [
      "🚀 Starting Evaluation...\n",
      "Loading ['output/wtq_dp/result.jsonl']...\n",
      "Loading output/wtq_dp/result.jsonl...\n",
      "Loaded 4344 results.\n"
     ]
    },
    {
     "name": "stderr",
     "output_type": "stream",
     "text": [
      "Progress: 100%|██████████| 1/1 [00:00<00:00,  5.90batch/s]"
     ]
    },
    {
     "name": "stdout",
     "output_type": "stream",
     "text": [
      "🏁 Evaluation Complete.\n",
      "📊 Statistical Summary of 1 Trials on 4344 Examples from Combined Checkpoints\n",
      "Min Accuracy: 65.63% (2851.0/4344)\n",
      "Max Accuracy: 65.63% (2851.0/4344)\n",
      "Mean Accuracy: 65.63% (2851.0/4344)\n",
      "Standard Deviation: 0.00%\n"
     ]
    },
    {
     "name": "stderr",
     "output_type": "stream",
     "text": [
      "\n"
     ]
    }
   ],
   "source": [
    "eval_wtq(\n",
    "    checkpoints=[\"output/wtq_dp/result.jsonl\"],\n",
    "    n_times=1\n",
    ")"
   ]
  },
  {
   "cell_type": "code",
   "execution_count": 18,
   "metadata": {},
   "outputs": [
    {
     "name": "stdout",
     "output_type": "stream",
     "text": [
      "🚀 Starting Evaluation...\n",
      "Loading ['output/wtq_agent3/result.jsonl', 'output/wtq_dp/result.jsonl']...\n",
      "Loading output/wtq_agent3/result.jsonl...\n",
      "Loaded 4344 results.\n",
      "Loading output/wtq_dp/result.jsonl...\n",
      "Loaded 4344 results.\n"
     ]
    },
    {
     "name": "stderr",
     "output_type": "stream",
     "text": [
      "Progress: 100%|██████████| 1/1 [00:00<00:00,  2.48batch/s]"
     ]
    },
    {
     "name": "stdout",
     "output_type": "stream",
     "text": [
      "🏁 Evaluation Complete.\n",
      "📊 Statistical Summary of 1 Trials on 4344 Examples from Combined Checkpoints\n",
      "Min Accuracy: 78.13% (3394.0/4344)\n",
      "Max Accuracy: 78.13% (3394.0/4344)\n",
      "Mean Accuracy: 78.13% (3394.0/4344)\n",
      "Standard Deviation: 0.00%\n"
     ]
    },
    {
     "name": "stderr",
     "output_type": "stream",
     "text": [
      "\n"
     ]
    }
   ],
   "source": [
    "eval_wtq(\n",
    "    checkpoints=[\"output/wtq_agent3/result.jsonl\", \"output/wtq_dp/result.jsonl\"],\n",
    "    n_times=1\n",
    ")"
   ]
  }
 ],
 "metadata": {
  "kernelspec": {
   "display_name": "Python 3",
   "language": "python",
   "name": "python3"
  },
  "language_info": {
   "codemirror_mode": {
    "name": "ipython",
    "version": 3
   },
   "file_extension": ".py",
   "mimetype": "text/x-python",
   "name": "python",
   "nbconvert_exporter": "python",
   "pygments_lexer": "ipython3",
   "version": "3.8.3"
  }
 },
 "nbformat": 4,
 "nbformat_minor": 2
}
